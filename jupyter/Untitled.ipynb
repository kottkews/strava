{
 "cells": [
  {
   "cell_type": "code",
   "execution_count": null,
   "id": "8ff18717-dcb0-41db-8421-920f20a09a7a",
   "metadata": {},
   "outputs": [],
   "source": []
  }
 ],
 "metadata": {
  "kernelspec": {
   "display_name": "",
   "name": ""
  },
  "language_info": {
   "name": ""
  }
 },
 "nbformat": 4,
 "nbformat_minor": 5
}
